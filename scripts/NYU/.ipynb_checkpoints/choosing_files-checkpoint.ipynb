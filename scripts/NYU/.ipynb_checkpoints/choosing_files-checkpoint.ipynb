{
 "cells": [
  {
   "cell_type": "code",
   "execution_count": 2,
   "metadata": {},
   "outputs": [],
   "source": [
    "import os"
   ]
  },
  {
   "cell_type": "code",
   "execution_count": 9,
   "metadata": {},
   "outputs": [
    {
     "data": {
      "text/plain": [
       "['00044_depth.png',\n",
       " '00070_depth.png',\n",
       " '00071_depth.png',\n",
       " '00080_depth.png',\n",
       " '00091_depth.png',\n",
       " '00096_depth.png',\n",
       " '00113_depth.png',\n",
       " '00114_depth.png',\n",
       " '00115_depth.png',\n",
       " '00119_depth.png',\n",
       " '00122_depth.png',\n",
       " '00218_depth.png',\n",
       " '00286_depth.png',\n",
       " '00292_depth.png',\n",
       " '00306_depth.png',\n",
       " '00321_depth.png',\n",
       " '00322_depth.png',\n",
       " '00489_depth.png',\n",
       " '00492_depth.png',\n",
       " '00494_depth.png',\n",
       " '00496_depth.png',\n",
       " '00506_depth.png',\n",
       " '00527_depth.png',\n",
       " '01019_depth.png',\n",
       " '01041_depth.png']"
      ]
     },
     "execution_count": 9,
     "metadata": {},
     "output_type": "execute_result"
    }
   ],
   "source": [
    "data_dir = 'F:/Projects/python/depth_from_monocular_camera/data/nyu/training'\n",
    "file_list = os.listdir(data_dir)\n",
    "required_list = [file for file in file_list if file.endswith('_colors.png')]\n",
    "depth_list = [file.replace('_colors', '_depth') for file in required_list]\n",
    "depth_list"
   ]
  },
  {
   "cell_type": "code",
   "execution_count": 17,
   "metadata": {},
   "outputs": [
    {
     "name": "stdout",
     "output_type": "stream",
     "text": [
      "F:/Projects/python/curfil/scripts/NYU/outfolder/training\\basement\\00489_depth.png\n",
      "F:/Projects/python/curfil/scripts/NYU/outfolder/training\\basement\\00492_depth.png\n",
      "F:/Projects/python/curfil/scripts/NYU/outfolder/training\\basement\\00494_depth.png\n",
      "F:/Projects/python/curfil/scripts/NYU/outfolder/training\\bathroom\\00044_depth.png\n",
      "F:/Projects/python/curfil/scripts/NYU/outfolder/training\\bathroom\\00496_depth.png\n",
      "F:/Projects/python/curfil/scripts/NYU/outfolder/training\\bathroom\\00506_depth.png\n",
      "F:/Projects/python/curfil/scripts/NYU/outfolder/training\\bedroom\\00070_depth.png\n",
      "F:/Projects/python/curfil/scripts/NYU/outfolder/training\\bedroom\\00071_depth.png\n",
      "F:/Projects/python/curfil/scripts/NYU/outfolder/training\\bedroom\\00080_depth.png\n",
      "F:/Projects/python/curfil/scripts/NYU/outfolder/training\\bedroom\\00218_depth.png\n",
      "F:/Projects/python/curfil/scripts/NYU/outfolder/training\\bedroom\\00527_depth.png\n",
      "F:/Projects/python/curfil/scripts/NYU/outfolder/training\\bedroom\\01019_depth.png\n",
      "F:/Projects/python/curfil/scripts/NYU/outfolder/training\\bedroom\\01041_depth.png\n",
      "F:/Projects/python/curfil/scripts/NYU/outfolder/training\\bookstore\\00091_depth.png\n",
      "F:/Projects/python/curfil/scripts/NYU/outfolder/training\\bookstore\\00096_depth.png\n",
      "F:/Projects/python/curfil/scripts/NYU/outfolder/training\\bookstore\\00113_depth.png\n",
      "F:/Projects/python/curfil/scripts/NYU/outfolder/training\\bookstore\\00114_depth.png\n",
      "F:/Projects/python/curfil/scripts/NYU/outfolder/training\\bookstore\\00115_depth.png\n",
      "F:/Projects/python/curfil/scripts/NYU/outfolder/training\\cafe\\00119_depth.png\n",
      "F:/Projects/python/curfil/scripts/NYU/outfolder/training\\cafe\\00122_depth.png\n",
      "F:/Projects/python/curfil/scripts/NYU/outfolder/training\\classroom\\00286_depth.png\n",
      "F:/Projects/python/curfil/scripts/NYU/outfolder/training\\classroom\\00292_depth.png\n",
      "F:/Projects/python/curfil/scripts/NYU/outfolder/training\\classroom\\00306_depth.png\n",
      "F:/Projects/python/curfil/scripts/NYU/outfolder/training\\classroom\\00321_depth.png\n",
      "F:/Projects/python/curfil/scripts/NYU/outfolder/training\\classroom\\00322_depth.png\n"
     ]
    }
   ],
   "source": [
    "import shutil\n",
    "\n",
    "training_dir = 'F:/Projects/python/curfil/scripts/NYU/outfolder/training'\n",
    "for root, dirs, files in os.walk(training_dir):\n",
    "#     print(root)\n",
    "    for file in depth_list:\n",
    "        if file in files:\n",
    "            os.path.isfile(os.path.join(root, file))\n",
    "            print(os.path.join(root, file))\n",
    "            shutil.copy2(os.path.join(root, file), os.path.join(os.getcwd(), 'depth'))"
   ]
  }
 ],
 "metadata": {
  "kernelspec": {
   "display_name": "Python 3",
   "language": "python",
   "name": "python3"
  },
  "language_info": {
   "codemirror_mode": {
    "name": "ipython",
    "version": 3
   },
   "file_extension": ".py",
   "mimetype": "text/x-python",
   "name": "python",
   "nbconvert_exporter": "python",
   "pygments_lexer": "ipython3",
   "version": "3.6.5"
  }
 },
 "nbformat": 4,
 "nbformat_minor": 2
}
